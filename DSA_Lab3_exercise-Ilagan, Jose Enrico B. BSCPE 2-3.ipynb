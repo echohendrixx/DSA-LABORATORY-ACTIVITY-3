{
 "cells": [
  {
   "cell_type": "markdown",
   "metadata": {},
   "source": [
    "# Object Oriented Programming\n",
    "## Laboratory Exercise \n",
    "Deadline: 11:59pm Oct 8, 2024\n",
    "\n",
    "upload you this file together with your answer, the filename should be DSA_Lab3_exercise<name_and_section>.ipynb\n",
    "\n",
    "upload to https://docs.google.com/forms/d/e/1FAIpQLSdbYz8nlwvYws-ukmS2CcJE6YGgJxpD2y0tVvAxfyz-_pV4mg/viewform?usp=pp_url\n"
   ]
  },
  {
   "cell_type": "markdown",
   "metadata": {},
   "source": [
    "\n",
    "\n"
   ]
  },
  {
   "cell_type": "markdown",
   "metadata": {},
   "source": []
  },
  {
   "cell_type": "code",
   "execution_count": null,
   "metadata": {},
   "outputs": [],
   "source": []
  },
  {
   "cell_type": "markdown",
   "metadata": {},
   "source": [
    "## Lab exercise 1\n",
    "\n",
    "from a given list of integers, create a new list using comprehension that will compute the square of odd integer elements.\n",
    "\n",
    "sample calls\n",
    "\n",
    "[2,4,3] == [9]\n",
    "[0,0,1,1] == [1,1]\n"
   ]
  },
  {
   "cell_type": "code",
   "execution_count": 8,
   "metadata": {},
   "outputs": [
    {
     "name": "stdout",
     "output_type": "stream",
     "text": [
      "[1, 2, 3, 4, 5, 6, 7, 8, 9]\n",
      "[1, 9, 25, 49, 81]\n"
     ]
    }
   ],
   "source": [
    "# solution here\n",
    "\n",
    "# Get list of integers from user input\n",
    "listofnumbers = list(map(int, input(\"Enter elements separated by space: \").split()))\n",
    "\n",
    "# Create a list of squares of odd numbers\n",
    "square = [i ** 2 for i in listofnumbers if i % 2 == 1]\n",
    "\n",
    "# Print original list and list of squared odd numbers\n",
    "print(listofnumbers)\n",
    "print(square)"
   ]
  },
  {
   "cell_type": "markdown",
   "metadata": {},
   "source": [
    "## Lab exercise 2\n",
    "\n",
    "Using comprehension,create a new list of tuples from two given lists:\n",
    "\n",
    "### sample calls\n",
    "\n",
    "list1[1,2,3]\n",
    "list2[\"mark\",\"alice\",\"john]\n",
    "\n",
    "result: listOfTuple[(1,\"mark\"),(2,\"alice\"),(3,\"john\")] "
   ]
  },
  {
   "cell_type": "code",
   "execution_count": 9,
   "metadata": {},
   "outputs": [
    {
     "name": "stdout",
     "output_type": "stream",
     "text": [
      "[('mark', '14'), ('1', 'beijing'), ('ruby', '20'), ('2', 'kram'), ('3', 'ramk')]\n"
     ]
    }
   ],
   "source": [
    "#solution here\n",
    "\n",
    "# Get first list of strings from user input\n",
    "list1 = list(map(str, input(\"Enter elements separated by space: \").split()))\n",
    "\n",
    "# Get second list of strings from user input\n",
    "list2 = list(map(str, input(\"Enter new set of elements separated by space: \").split()))\n",
    "\n",
    "# Create list of tuples by pairing elements from list1 and list2\n",
    "listOfTuple = [(a, b) for a, b in zip(list1, list2)]\n",
    "\n",
    "# Print the list of tuples\n",
    "print(listOfTuple)\n"
   ]
  },
  {
   "cell_type": "markdown",
   "metadata": {},
   "source": [
    "\n"
   ]
  },
  {
   "cell_type": "markdown",
   "metadata": {},
   "source": [
    "## Lab exercise 3\n",
    "### Provide a list comprehension that implementation for a function called vowelsToUpper with the following signature:\n",
    "\n",
    "method name : vowelsToUpper\n",
    "\n",
    "input argument : String \n",
    "\n",
    "return argument : String\n",
    "\n",
    "vowelsToUpper must return a version of its String argument with all its vowels changed to their uppercase forms. Nonvowel characters stay as is.\n",
    "\n",
    "### Sample Calls\n",
    "\n",
    "vowelsToUpper \"\" == \"\"\n",
    "\n",
    "vowelsToUpper \"Hello, world!\" == \"HEllO, wOrld!\"\n",
    "\n",
    "vowelsToUpper \"hello hi bye\" == \"hEllO hI byE\""
   ]
  },
  {
   "cell_type": "code",
   "execution_count": 10,
   "metadata": {},
   "outputs": [
    {
     "name": "stdout",
     "output_type": "stream",
     "text": [
      "'Good day, user! How may I help you today?' == 'GOOd dAy, UsEr! HOw mAy I hElp yOU tOdAy?'\n"
     ]
    }
   ],
   "source": [
    "#solution here\n",
    "\n",
    "def vowelsToUpper(array):\n",
    "    # Dictionary to map lowercase vowels to uppercase\n",
    "    substitution = {'a': 'A', 'e': 'E', 'i': 'I', 'o': 'O', 'u': 'U'}\n",
    "    \n",
    "    # Convert vowels to uppercase, leave other characters unchanged\n",
    "    aa = [substitution.get(char.lower(), char) for char in array]\n",
    "    \n",
    "    # Return the modified string\n",
    "    return \"\".join(aa)\n",
    "\n",
    "# Get user input for the string\n",
    "strtobeconverted = input(\"Input the string here to convert its vowel to uppercase: \")\n",
    "\n",
    "# Convert vowels to uppercase using the function\n",
    "converted_string = vowelsToUpper(strtobeconverted)\n",
    "\n",
    "# Print the original string and its converted version side by side\n",
    "print(f\"'{strtobeconverted}' == '{converted_string}'\")"
   ]
  }
 ],
 "metadata": {
  "kernelspec": {
   "display_name": "Python 3",
   "language": "python",
   "name": "python3"
  },
  "language_info": {
   "codemirror_mode": {
    "name": "ipython",
    "version": 3
   },
   "file_extension": ".py",
   "mimetype": "text/x-python",
   "name": "python",
   "nbconvert_exporter": "python",
   "pygments_lexer": "ipython3",
   "version": "3.12.0"
  }
 },
 "nbformat": 4,
 "nbformat_minor": 2
}
